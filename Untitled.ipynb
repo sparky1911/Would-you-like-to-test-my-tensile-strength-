{
 "cells": [
  {
   "cell_type": "code",
   "execution_count": 69,
   "metadata": {},
   "outputs": [],
   "source": [
    "import pandas as pd\n",
    "df=pd.read_excel('New Microsoft Excel Worksheet.xlsx')"
   ]
  },
  {
   "cell_type": "code",
   "execution_count": 70,
   "metadata": {},
   "outputs": [
    {
     "data": {
      "text/html": [
       "<div>\n",
       "<style scoped>\n",
       "    .dataframe tbody tr th:only-of-type {\n",
       "        vertical-align: middle;\n",
       "    }\n",
       "\n",
       "    .dataframe tbody tr th {\n",
       "        vertical-align: top;\n",
       "    }\n",
       "\n",
       "    .dataframe thead th {\n",
       "        text-align: right;\n",
       "    }\n",
       "</style>\n",
       "<table border=\"1\" class=\"dataframe\">\n",
       "  <thead>\n",
       "    <tr style=\"text-align: right;\">\n",
       "      <th></th>\n",
       "      <th>elongation(mm)</th>\n",
       "      <th>load(Kn)</th>\n",
       "    </tr>\n",
       "  </thead>\n",
       "  <tbody>\n",
       "    <tr>\n",
       "      <th>0</th>\n",
       "      <td>0.0002</td>\n",
       "      <td>0.12386</td>\n",
       "    </tr>\n",
       "    <tr>\n",
       "      <th>1</th>\n",
       "      <td>0.0040</td>\n",
       "      <td>0.43351</td>\n",
       "    </tr>\n",
       "    <tr>\n",
       "      <th>2</th>\n",
       "      <td>0.0050</td>\n",
       "      <td>0.55737</td>\n",
       "    </tr>\n",
       "    <tr>\n",
       "      <th>3</th>\n",
       "      <td>0.0060</td>\n",
       "      <td>0.80509</td>\n",
       "    </tr>\n",
       "    <tr>\n",
       "      <th>4</th>\n",
       "      <td>0.0070</td>\n",
       "      <td>1.05281</td>\n",
       "    </tr>\n",
       "    <tr>\n",
       "      <th>...</th>\n",
       "      <td>...</td>\n",
       "      <td>...</td>\n",
       "    </tr>\n",
       "    <tr>\n",
       "      <th>84</th>\n",
       "      <td>0.1780</td>\n",
       "      <td>29.91219</td>\n",
       "    </tr>\n",
       "    <tr>\n",
       "      <th>85</th>\n",
       "      <td>0.1870</td>\n",
       "      <td>30.65535</td>\n",
       "    </tr>\n",
       "    <tr>\n",
       "      <th>86</th>\n",
       "      <td>0.1900</td>\n",
       "      <td>30.90307</td>\n",
       "    </tr>\n",
       "    <tr>\n",
       "      <th>87</th>\n",
       "      <td>0.1950</td>\n",
       "      <td>31.52237</td>\n",
       "    </tr>\n",
       "    <tr>\n",
       "      <th>88</th>\n",
       "      <td>0.1990</td>\n",
       "      <td>31.64623</td>\n",
       "    </tr>\n",
       "  </tbody>\n",
       "</table>\n",
       "<p>89 rows × 2 columns</p>\n",
       "</div>"
      ],
      "text/plain": [
       "    elongation(mm)  load(Kn)\n",
       "0           0.0002   0.12386\n",
       "1           0.0040   0.43351\n",
       "2           0.0050   0.55737\n",
       "3           0.0060   0.80509\n",
       "4           0.0070   1.05281\n",
       "..             ...       ...\n",
       "84          0.1780  29.91219\n",
       "85          0.1870  30.65535\n",
       "86          0.1900  30.90307\n",
       "87          0.1950  31.52237\n",
       "88          0.1990  31.64623\n",
       "\n",
       "[89 rows x 2 columns]"
      ]
     },
     "execution_count": 70,
     "metadata": {},
     "output_type": "execute_result"
    }
   ],
   "source": [
    "df"
   ]
  },
  {
   "cell_type": "code",
   "execution_count": 71,
   "metadata": {},
   "outputs": [
    {
     "name": "stdout",
     "output_type": "stream",
     "text": [
      "elongation(mm)\n",
      "load(Kn)\n"
     ]
    }
   ],
   "source": [
    "for col in df.columns:\n",
    "    print(col)"
   ]
  },
  {
   "cell_type": "code",
   "execution_count": 72,
   "metadata": {},
   "outputs": [],
   "source": [
    "import numpy as np\n",
    "l = np.asarray(df['load(Kn)'])\n"
   ]
  },
  {
   "cell_type": "code",
   "execution_count": 73,
   "metadata": {},
   "outputs": [
    {
     "data": {
      "text/plain": [
       "array([ 0.12386,  0.43351,  0.55737,  0.80509,  1.05281,  1.42439,\n",
       "        1.67211,  1.98176,  2.22948,  2.35334,  2.66299,  2.78685,\n",
       "        3.40615,  3.59194,  3.90159,  4.27317,  4.45896,  4.83054,\n",
       "        5.5737 ,  5.75949,  5.94528,  6.50265,  6.87423,  7.06002,\n",
       "        7.67932,  7.86511,  8.11283,  9.22757,  9.53722, 10.03266,\n",
       "       10.28038, 10.77582, 11.33319, 11.82863, 12.07635, 12.63372,\n",
       "       12.88144, 13.74846, 14.2439 , 15.11092, 15.35864, 15.91601,\n",
       "       16.22566, 16.47338, 16.78303, 17.09268, 17.3404 , 17.9597 ,\n",
       "       18.579  , 18.95058, 21.24199, 21.42778, 21.6755 , 21.86129,\n",
       "       21.86129, 22.04708, 22.2948 , 22.85217, 23.09989, 23.28568,\n",
       "       23.47147, 23.71919, 23.90498, 24.09077, 24.33849, 24.33849,\n",
       "       25.14358, 25.32937, 25.76288, 25.94867, 26.32025, 26.75376,\n",
       "       26.93955, 27.12534, 27.37306, 27.55885, 28.17815, 28.36394,\n",
       "       28.73552, 28.73552, 28.98324, 29.35482, 29.54061, 29.7264 ,\n",
       "       29.91219, 30.65535, 30.90307, 31.52237, 31.64623])"
      ]
     },
     "execution_count": 73,
     "metadata": {},
     "output_type": "execute_result"
    }
   ],
   "source": [
    "l"
   ]
  },
  {
   "cell_type": "code",
   "execution_count": 74,
   "metadata": {},
   "outputs": [],
   "source": [
    "l=l/61.93"
   ]
  },
  {
   "cell_type": "code",
   "execution_count": 75,
   "metadata": {},
   "outputs": [
    {
     "data": {
      "text/plain": [
       "array([0.002, 0.007, 0.009, 0.013, 0.017, 0.023, 0.027, 0.032, 0.036,\n",
       "       0.038, 0.043, 0.045, 0.055, 0.058, 0.063, 0.069, 0.072, 0.078,\n",
       "       0.09 , 0.093, 0.096, 0.105, 0.111, 0.114, 0.124, 0.127, 0.131,\n",
       "       0.149, 0.154, 0.162, 0.166, 0.174, 0.183, 0.191, 0.195, 0.204,\n",
       "       0.208, 0.222, 0.23 , 0.244, 0.248, 0.257, 0.262, 0.266, 0.271,\n",
       "       0.276, 0.28 , 0.29 , 0.3  , 0.306, 0.343, 0.346, 0.35 , 0.353,\n",
       "       0.353, 0.356, 0.36 , 0.369, 0.373, 0.376, 0.379, 0.383, 0.386,\n",
       "       0.389, 0.393, 0.393, 0.406, 0.409, 0.416, 0.419, 0.425, 0.432,\n",
       "       0.435, 0.438, 0.442, 0.445, 0.455, 0.458, 0.464, 0.464, 0.468,\n",
       "       0.474, 0.477, 0.48 , 0.483, 0.495, 0.499, 0.509, 0.511])"
      ]
     },
     "execution_count": 75,
     "metadata": {},
     "output_type": "execute_result"
    }
   ],
   "source": [
    "l"
   ]
  },
  {
   "cell_type": "code",
   "execution_count": 76,
   "metadata": {},
   "outputs": [],
   "source": [
    "df['stress'] =l.tolist()"
   ]
  },
  {
   "cell_type": "code",
   "execution_count": 77,
   "metadata": {},
   "outputs": [
    {
     "data": {
      "text/html": [
       "<div>\n",
       "<style scoped>\n",
       "    .dataframe tbody tr th:only-of-type {\n",
       "        vertical-align: middle;\n",
       "    }\n",
       "\n",
       "    .dataframe tbody tr th {\n",
       "        vertical-align: top;\n",
       "    }\n",
       "\n",
       "    .dataframe thead th {\n",
       "        text-align: right;\n",
       "    }\n",
       "</style>\n",
       "<table border=\"1\" class=\"dataframe\">\n",
       "  <thead>\n",
       "    <tr style=\"text-align: right;\">\n",
       "      <th></th>\n",
       "      <th>elongation(mm)</th>\n",
       "      <th>load(Kn)</th>\n",
       "      <th>stress</th>\n",
       "    </tr>\n",
       "  </thead>\n",
       "  <tbody>\n",
       "    <tr>\n",
       "      <th>0</th>\n",
       "      <td>0.0002</td>\n",
       "      <td>0.12386</td>\n",
       "      <td>0.002</td>\n",
       "    </tr>\n",
       "    <tr>\n",
       "      <th>1</th>\n",
       "      <td>0.0040</td>\n",
       "      <td>0.43351</td>\n",
       "      <td>0.007</td>\n",
       "    </tr>\n",
       "    <tr>\n",
       "      <th>2</th>\n",
       "      <td>0.0050</td>\n",
       "      <td>0.55737</td>\n",
       "      <td>0.009</td>\n",
       "    </tr>\n",
       "    <tr>\n",
       "      <th>3</th>\n",
       "      <td>0.0060</td>\n",
       "      <td>0.80509</td>\n",
       "      <td>0.013</td>\n",
       "    </tr>\n",
       "    <tr>\n",
       "      <th>4</th>\n",
       "      <td>0.0070</td>\n",
       "      <td>1.05281</td>\n",
       "      <td>0.017</td>\n",
       "    </tr>\n",
       "    <tr>\n",
       "      <th>...</th>\n",
       "      <td>...</td>\n",
       "      <td>...</td>\n",
       "      <td>...</td>\n",
       "    </tr>\n",
       "    <tr>\n",
       "      <th>84</th>\n",
       "      <td>0.1780</td>\n",
       "      <td>29.91219</td>\n",
       "      <td>0.483</td>\n",
       "    </tr>\n",
       "    <tr>\n",
       "      <th>85</th>\n",
       "      <td>0.1870</td>\n",
       "      <td>30.65535</td>\n",
       "      <td>0.495</td>\n",
       "    </tr>\n",
       "    <tr>\n",
       "      <th>86</th>\n",
       "      <td>0.1900</td>\n",
       "      <td>30.90307</td>\n",
       "      <td>0.499</td>\n",
       "    </tr>\n",
       "    <tr>\n",
       "      <th>87</th>\n",
       "      <td>0.1950</td>\n",
       "      <td>31.52237</td>\n",
       "      <td>0.509</td>\n",
       "    </tr>\n",
       "    <tr>\n",
       "      <th>88</th>\n",
       "      <td>0.1990</td>\n",
       "      <td>31.64623</td>\n",
       "      <td>0.511</td>\n",
       "    </tr>\n",
       "  </tbody>\n",
       "</table>\n",
       "<p>89 rows × 3 columns</p>\n",
       "</div>"
      ],
      "text/plain": [
       "    elongation(mm)  load(Kn)  stress\n",
       "0           0.0002   0.12386   0.002\n",
       "1           0.0040   0.43351   0.007\n",
       "2           0.0050   0.55737   0.009\n",
       "3           0.0060   0.80509   0.013\n",
       "4           0.0070   1.05281   0.017\n",
       "..             ...       ...     ...\n",
       "84          0.1780  29.91219   0.483\n",
       "85          0.1870  30.65535   0.495\n",
       "86          0.1900  30.90307   0.499\n",
       "87          0.1950  31.52237   0.509\n",
       "88          0.1990  31.64623   0.511\n",
       "\n",
       "[89 rows x 3 columns]"
      ]
     },
     "execution_count": 77,
     "metadata": {},
     "output_type": "execute_result"
    }
   ],
   "source": [
    "df"
   ]
  },
  {
   "cell_type": "code",
   "execution_count": 78,
   "metadata": {},
   "outputs": [],
   "source": [
    "import numpy as np\n",
    "k = np.asarray(df['elongation(mm)'])\n",
    "k=k/50"
   ]
  },
  {
   "cell_type": "code",
   "execution_count": 79,
   "metadata": {},
   "outputs": [
    {
     "data": {
      "text/plain": [
       "array([4.00e-06, 8.00e-05, 1.00e-04, 1.20e-04, 1.40e-04, 1.60e-04,\n",
       "       2.00e-04, 2.20e-04, 2.40e-04, 2.60e-04, 2.80e-04, 3.00e-04,\n",
       "       3.40e-03, 3.60e-04, 3.80e-04, 4.00e-04, 4.40e-04, 4.60e-04,\n",
       "       4.80e-04, 5.20e-04, 5.40e-04, 5.80e-04, 6.00e-04, 6.20e-04,\n",
       "       6.40e-04, 6.60e-04, 7.00e-04, 7.80e-04, 8.00e-04, 8.60e-04,\n",
       "       8.80e-04, 9.40e-04, 1.00e-03, 1.04e-03, 1.08e-03, 1.12e-03,\n",
       "       1.18e-03, 1.24e-03, 1.28e-03, 1.38e-03, 1.40e-03, 1.46e-03,\n",
       "       1.50e-03, 1.54e-03, 1.56e-03, 1.58e-03, 1.60e-03, 1.66e-03,\n",
       "       1.74e-03, 1.84e-03, 2.08e-03, 2.12e-03, 2.14e-03, 2.16e-03,\n",
       "       2.18e-03, 2.20e-03, 2.22e-03, 2.30e-03, 2.34e-03, 2.36e-03,\n",
       "       2.38e-03, 2.40e-03, 2.46e-03, 2.50e-03, 2.52e-03, 2.54e-03,\n",
       "       2.64e-03, 2.68e-03, 2.76e-03, 2.78e-03, 2.86e-03, 2.92e-03,\n",
       "       2.94e-03, 2.96e-03, 3.02e-03, 3.08e-03, 3.18e-03, 3.20e-03,\n",
       "       3.26e-03, 3.32e-03, 3.34e-03, 3.42e-03, 3.44e-03, 3.50e-03,\n",
       "       3.56e-03, 3.74e-03, 3.80e-03, 3.90e-03, 3.98e-03])"
      ]
     },
     "execution_count": 79,
     "metadata": {},
     "output_type": "execute_result"
    }
   ],
   "source": [
    "k"
   ]
  },
  {
   "cell_type": "code",
   "execution_count": 80,
   "metadata": {},
   "outputs": [],
   "source": [
    "df['strain'] =k.tolist()"
   ]
  },
  {
   "cell_type": "code",
   "execution_count": 81,
   "metadata": {
    "scrolled": true
   },
   "outputs": [
    {
     "data": {
      "text/html": [
       "<div>\n",
       "<style scoped>\n",
       "    .dataframe tbody tr th:only-of-type {\n",
       "        vertical-align: middle;\n",
       "    }\n",
       "\n",
       "    .dataframe tbody tr th {\n",
       "        vertical-align: top;\n",
       "    }\n",
       "\n",
       "    .dataframe thead th {\n",
       "        text-align: right;\n",
       "    }\n",
       "</style>\n",
       "<table border=\"1\" class=\"dataframe\">\n",
       "  <thead>\n",
       "    <tr style=\"text-align: right;\">\n",
       "      <th></th>\n",
       "      <th>elongation(mm)</th>\n",
       "      <th>load(Kn)</th>\n",
       "      <th>stress</th>\n",
       "      <th>strain</th>\n",
       "    </tr>\n",
       "  </thead>\n",
       "  <tbody>\n",
       "    <tr>\n",
       "      <th>0</th>\n",
       "      <td>0.0002</td>\n",
       "      <td>0.12386</td>\n",
       "      <td>0.002</td>\n",
       "      <td>0.000004</td>\n",
       "    </tr>\n",
       "    <tr>\n",
       "      <th>1</th>\n",
       "      <td>0.0040</td>\n",
       "      <td>0.43351</td>\n",
       "      <td>0.007</td>\n",
       "      <td>0.000080</td>\n",
       "    </tr>\n",
       "    <tr>\n",
       "      <th>2</th>\n",
       "      <td>0.0050</td>\n",
       "      <td>0.55737</td>\n",
       "      <td>0.009</td>\n",
       "      <td>0.000100</td>\n",
       "    </tr>\n",
       "    <tr>\n",
       "      <th>3</th>\n",
       "      <td>0.0060</td>\n",
       "      <td>0.80509</td>\n",
       "      <td>0.013</td>\n",
       "      <td>0.000120</td>\n",
       "    </tr>\n",
       "    <tr>\n",
       "      <th>4</th>\n",
       "      <td>0.0070</td>\n",
       "      <td>1.05281</td>\n",
       "      <td>0.017</td>\n",
       "      <td>0.000140</td>\n",
       "    </tr>\n",
       "    <tr>\n",
       "      <th>5</th>\n",
       "      <td>0.0080</td>\n",
       "      <td>1.42439</td>\n",
       "      <td>0.023</td>\n",
       "      <td>0.000160</td>\n",
       "    </tr>\n",
       "    <tr>\n",
       "      <th>6</th>\n",
       "      <td>0.0100</td>\n",
       "      <td>1.67211</td>\n",
       "      <td>0.027</td>\n",
       "      <td>0.000200</td>\n",
       "    </tr>\n",
       "    <tr>\n",
       "      <th>7</th>\n",
       "      <td>0.0110</td>\n",
       "      <td>1.98176</td>\n",
       "      <td>0.032</td>\n",
       "      <td>0.000220</td>\n",
       "    </tr>\n",
       "    <tr>\n",
       "      <th>8</th>\n",
       "      <td>0.0120</td>\n",
       "      <td>2.22948</td>\n",
       "      <td>0.036</td>\n",
       "      <td>0.000240</td>\n",
       "    </tr>\n",
       "    <tr>\n",
       "      <th>9</th>\n",
       "      <td>0.0130</td>\n",
       "      <td>2.35334</td>\n",
       "      <td>0.038</td>\n",
       "      <td>0.000260</td>\n",
       "    </tr>\n",
       "    <tr>\n",
       "      <th>10</th>\n",
       "      <td>0.0140</td>\n",
       "      <td>2.66299</td>\n",
       "      <td>0.043</td>\n",
       "      <td>0.000280</td>\n",
       "    </tr>\n",
       "    <tr>\n",
       "      <th>11</th>\n",
       "      <td>0.0150</td>\n",
       "      <td>2.78685</td>\n",
       "      <td>0.045</td>\n",
       "      <td>0.000300</td>\n",
       "    </tr>\n",
       "    <tr>\n",
       "      <th>12</th>\n",
       "      <td>0.1700</td>\n",
       "      <td>3.40615</td>\n",
       "      <td>0.055</td>\n",
       "      <td>0.003400</td>\n",
       "    </tr>\n",
       "  </tbody>\n",
       "</table>\n",
       "</div>"
      ],
      "text/plain": [
       "    elongation(mm)  load(Kn)  stress    strain\n",
       "0           0.0002   0.12386   0.002  0.000004\n",
       "1           0.0040   0.43351   0.007  0.000080\n",
       "2           0.0050   0.55737   0.009  0.000100\n",
       "3           0.0060   0.80509   0.013  0.000120\n",
       "4           0.0070   1.05281   0.017  0.000140\n",
       "5           0.0080   1.42439   0.023  0.000160\n",
       "6           0.0100   1.67211   0.027  0.000200\n",
       "7           0.0110   1.98176   0.032  0.000220\n",
       "8           0.0120   2.22948   0.036  0.000240\n",
       "9           0.0130   2.35334   0.038  0.000260\n",
       "10          0.0140   2.66299   0.043  0.000280\n",
       "11          0.0150   2.78685   0.045  0.000300\n",
       "12          0.1700   3.40615   0.055  0.003400"
      ]
     },
     "execution_count": 81,
     "metadata": {},
     "output_type": "execute_result"
    }
   ],
   "source": [
    "df.head(13)"
   ]
  },
  {
   "cell_type": "code",
   "execution_count": 82,
   "metadata": {},
   "outputs": [],
   "source": [
    "df=df.sample(frac = 1)"
   ]
  },
  {
   "cell_type": "code",
   "execution_count": 83,
   "metadata": {},
   "outputs": [],
   "source": [
    "y=df['stress']\n",
    "x=df.drop('stress', axis=1)"
   ]
  },
  {
   "cell_type": "code",
   "execution_count": 84,
   "metadata": {},
   "outputs": [],
   "source": [
    "x=x.drop('strain', axis=1)"
   ]
  },
  {
   "cell_type": "code",
   "execution_count": 85,
   "metadata": {},
   "outputs": [],
   "source": [
    "from sklearn.model_selection import train_test_split\n",
    "X_train, X_test, Y_train, Y_test = train_test_split(x, y, test_size=0.1)\n",
    "def MAPE(y_true, y_pred): \n",
    "  y_true, y_pred = np.array(y_true), np.array(y_pred)\n",
    "  return np.mean(np.abs((y_true - y_pred) / np.maximum(np.ones(len(y_true)), np.abs(y_true))))*100"
   ]
  },
  {
   "cell_type": "code",
   "execution_count": 86,
   "metadata": {},
   "outputs": [
    {
     "data": {
      "text/html": [
       "<div>\n",
       "<style scoped>\n",
       "    .dataframe tbody tr th:only-of-type {\n",
       "        vertical-align: middle;\n",
       "    }\n",
       "\n",
       "    .dataframe tbody tr th {\n",
       "        vertical-align: top;\n",
       "    }\n",
       "\n",
       "    .dataframe thead th {\n",
       "        text-align: right;\n",
       "    }\n",
       "</style>\n",
       "<table border=\"1\" class=\"dataframe\">\n",
       "  <thead>\n",
       "    <tr style=\"text-align: right;\">\n",
       "      <th></th>\n",
       "      <th>elongation(mm)</th>\n",
       "      <th>load(Kn)</th>\n",
       "    </tr>\n",
       "  </thead>\n",
       "  <tbody>\n",
       "    <tr>\n",
       "      <th>73</th>\n",
       "      <td>0.148</td>\n",
       "      <td>27.12534</td>\n",
       "    </tr>\n",
       "    <tr>\n",
       "      <th>31</th>\n",
       "      <td>0.047</td>\n",
       "      <td>10.77582</td>\n",
       "    </tr>\n",
       "    <tr>\n",
       "      <th>29</th>\n",
       "      <td>0.043</td>\n",
       "      <td>10.03266</td>\n",
       "    </tr>\n",
       "    <tr>\n",
       "      <th>84</th>\n",
       "      <td>0.178</td>\n",
       "      <td>29.91219</td>\n",
       "    </tr>\n",
       "    <tr>\n",
       "      <th>58</th>\n",
       "      <td>0.117</td>\n",
       "      <td>23.09989</td>\n",
       "    </tr>\n",
       "    <tr>\n",
       "      <th>...</th>\n",
       "      <td>...</td>\n",
       "      <td>...</td>\n",
       "    </tr>\n",
       "    <tr>\n",
       "      <th>35</th>\n",
       "      <td>0.056</td>\n",
       "      <td>12.63372</td>\n",
       "    </tr>\n",
       "    <tr>\n",
       "      <th>41</th>\n",
       "      <td>0.073</td>\n",
       "      <td>15.91601</td>\n",
       "    </tr>\n",
       "    <tr>\n",
       "      <th>13</th>\n",
       "      <td>0.018</td>\n",
       "      <td>3.59194</td>\n",
       "    </tr>\n",
       "    <tr>\n",
       "      <th>9</th>\n",
       "      <td>0.013</td>\n",
       "      <td>2.35334</td>\n",
       "    </tr>\n",
       "    <tr>\n",
       "      <th>20</th>\n",
       "      <td>0.027</td>\n",
       "      <td>5.94528</td>\n",
       "    </tr>\n",
       "  </tbody>\n",
       "</table>\n",
       "<p>89 rows × 2 columns</p>\n",
       "</div>"
      ],
      "text/plain": [
       "    elongation(mm)  load(Kn)\n",
       "73           0.148  27.12534\n",
       "31           0.047  10.77582\n",
       "29           0.043  10.03266\n",
       "84           0.178  29.91219\n",
       "58           0.117  23.09989\n",
       "..             ...       ...\n",
       "35           0.056  12.63372\n",
       "41           0.073  15.91601\n",
       "13           0.018   3.59194\n",
       "9            0.013   2.35334\n",
       "20           0.027   5.94528\n",
       "\n",
       "[89 rows x 2 columns]"
      ]
     },
     "execution_count": 86,
     "metadata": {},
     "output_type": "execute_result"
    }
   ],
   "source": [
    "x"
   ]
  },
  {
   "cell_type": "code",
   "execution_count": 87,
   "metadata": {},
   "outputs": [
    {
     "name": "stdout",
     "output_type": "stream",
     "text": [
      "Model: \"sequential_8\"\n",
      "_________________________________________________________________\n",
      "Layer (type)                 Output Shape              Param #   \n",
      "=================================================================\n",
      "dense_34 (Dense)             (None, 8)                 24        \n",
      "_________________________________________________________________\n",
      "dense_35 (Dense)             (None, 8)                 72        \n",
      "_________________________________________________________________\n",
      "dense_36 (Dense)             (None, 4)                 36        \n",
      "_________________________________________________________________\n",
      "dense_37 (Dense)             (None, 4)                 20        \n",
      "_________________________________________________________________\n",
      "dense_38 (Dense)             (None, 1)                 5         \n",
      "=================================================================\n",
      "Total params: 157\n",
      "Trainable params: 157\n",
      "Non-trainable params: 0\n",
      "_________________________________________________________________\n"
     ]
    }
   ],
   "source": [
    "from statsmodels.stats.outliers_influence import variance_inflation_factor as vif\n",
    "\n",
    "from sklearn.model_selection import train_test_split\n",
    "import tensorflow as tf\n",
    "from tensorflow.keras import Sequential\n",
    "from tensorflow.keras.layers import Dense\n",
    "model = Sequential()\n",
    "model.add(Dense(8,input_dim=2, activation='relu'))\n",
    "model.add(Dense(8, activation='relu'))\n",
    "model.add(Dense(4, activation='relu'))\n",
    "model.add(Dense(4, activation='relu'))\n",
    "model.add(Dense(1, activation='relu'))\n",
    "adam = tf.keras.optimizers.Adam(learning_rate=0.0001)\n",
    "\n",
    "model.compile(loss='mae', optimizer=adam, metrics=['mae'])\n",
    "\n",
    "model.summary()"
   ]
  },
  {
   "cell_type": "code",
   "execution_count": 88,
   "metadata": {},
   "outputs": [
    {
     "name": "stdout",
     "output_type": "stream",
     "text": [
      "Epoch 1/200\n",
      "2/2 [==============================] - 2s 478ms/step - loss: 0.1953 - mae: 0.1953 - val_loss: 0.2023 - val_mae: 0.2023\n",
      "Epoch 2/200\n",
      "2/2 [==============================] - 0s 64ms/step - loss: 0.1927 - mae: 0.1927 - val_loss: 0.1997 - val_mae: 0.1997\n",
      "Epoch 3/200\n",
      "2/2 [==============================] - 0s 62ms/step - loss: 0.1902 - mae: 0.1902 - val_loss: 0.1978 - val_mae: 0.1978\n",
      "Epoch 4/200\n",
      "2/2 [==============================] - 0s 62ms/step - loss: 0.1890 - mae: 0.1890 - val_loss: 0.1971 - val_mae: 0.1971\n",
      "Epoch 5/200\n",
      "2/2 [==============================] - 0s 68ms/step - loss: 0.1883 - mae: 0.1883 - val_loss: 0.1965 - val_mae: 0.1965\n",
      "Epoch 6/200\n",
      "2/2 [==============================] - 0s 72ms/step - loss: 0.1876 - mae: 0.1876 - val_loss: 0.1958 - val_mae: 0.1958\n",
      "Epoch 7/200\n",
      "2/2 [==============================] - 0s 75ms/step - loss: 0.1870 - mae: 0.1870 - val_loss: 0.1951 - val_mae: 0.1951\n",
      "Epoch 8/200\n",
      "2/2 [==============================] - 0s 63ms/step - loss: 0.1864 - mae: 0.1864 - val_loss: 0.1945 - val_mae: 0.1945\n",
      "Epoch 9/200\n",
      "2/2 [==============================] - 0s 67ms/step - loss: 0.1857 - mae: 0.1857 - val_loss: 0.1938 - val_mae: 0.1938\n",
      "Epoch 10/200\n",
      "2/2 [==============================] - 0s 63ms/step - loss: 0.1851 - mae: 0.1851 - val_loss: 0.1931 - val_mae: 0.1931\n",
      "Epoch 11/200\n",
      "2/2 [==============================] - 0s 68ms/step - loss: 0.1844 - mae: 0.1844 - val_loss: 0.1924 - val_mae: 0.1924\n",
      "Epoch 12/200\n",
      "2/2 [==============================] - 0s 54ms/step - loss: 0.1838 - mae: 0.1838 - val_loss: 0.1917 - val_mae: 0.1917\n",
      "Epoch 13/200\n",
      "2/2 [==============================] - 0s 60ms/step - loss: 0.1831 - mae: 0.1831 - val_loss: 0.1911 - val_mae: 0.1911\n",
      "Epoch 14/200\n",
      "2/2 [==============================] - 0s 67ms/step - loss: 0.1824 - mae: 0.1824 - val_loss: 0.1904 - val_mae: 0.1904\n",
      "Epoch 15/200\n",
      "2/2 [==============================] - 0s 82ms/step - loss: 0.1818 - mae: 0.1818 - val_loss: 0.1897 - val_mae: 0.1897\n",
      "Epoch 16/200\n",
      "2/2 [==============================] - 0s 81ms/step - loss: 0.1811 - mae: 0.1811 - val_loss: 0.1890 - val_mae: 0.1890\n",
      "Epoch 17/200\n",
      "2/2 [==============================] - 0s 87ms/step - loss: 0.1804 - mae: 0.1804 - val_loss: 0.1883 - val_mae: 0.1883\n",
      "Epoch 18/200\n",
      "2/2 [==============================] - 0s 71ms/step - loss: 0.1797 - mae: 0.1797 - val_loss: 0.1875 - val_mae: 0.1875\n",
      "Epoch 19/200\n",
      "2/2 [==============================] - 0s 60ms/step - loss: 0.1790 - mae: 0.1790 - val_loss: 0.1868 - val_mae: 0.1868\n",
      "Epoch 20/200\n",
      "2/2 [==============================] - 0s 59ms/step - loss: 0.1784 - mae: 0.1784 - val_loss: 0.1861 - val_mae: 0.1861\n",
      "Epoch 21/200\n",
      "2/2 [==============================] - 0s 66ms/step - loss: 0.1777 - mae: 0.1777 - val_loss: 0.1854 - val_mae: 0.1854\n",
      "Epoch 22/200\n",
      "2/2 [==============================] - 0s 61ms/step - loss: 0.1770 - mae: 0.1770 - val_loss: 0.1846 - val_mae: 0.1846\n",
      "Epoch 23/200\n",
      "2/2 [==============================] - 0s 76ms/step - loss: 0.1763 - mae: 0.1763 - val_loss: 0.1839 - val_mae: 0.1839\n",
      "Epoch 24/200\n",
      "2/2 [==============================] - 0s 75ms/step - loss: 0.1756 - mae: 0.1756 - val_loss: 0.1831 - val_mae: 0.1831\n",
      "Epoch 25/200\n",
      "2/2 [==============================] - 0s 73ms/step - loss: 0.1748 - mae: 0.1748 - val_loss: 0.1824 - val_mae: 0.1824\n",
      "Epoch 26/200\n",
      "2/2 [==============================] - 0s 58ms/step - loss: 0.1742 - mae: 0.1742 - val_loss: 0.1816 - val_mae: 0.1816\n",
      "Epoch 27/200\n",
      "2/2 [==============================] - 0s 66ms/step - loss: 0.1735 - mae: 0.1735 - val_loss: 0.1809 - val_mae: 0.1809\n",
      "Epoch 28/200\n",
      "2/2 [==============================] - 0s 61ms/step - loss: 0.1728 - mae: 0.1728 - val_loss: 0.1801 - val_mae: 0.1801\n",
      "Epoch 29/200\n",
      "2/2 [==============================] - 0s 68ms/step - loss: 0.1721 - mae: 0.1721 - val_loss: 0.1794 - val_mae: 0.1794\n",
      "Epoch 30/200\n",
      "2/2 [==============================] - 0s 60ms/step - loss: 0.1713 - mae: 0.1713 - val_loss: 0.1786 - val_mae: 0.1786\n",
      "Epoch 31/200\n",
      "2/2 [==============================] - 0s 65ms/step - loss: 0.1706 - mae: 0.1706 - val_loss: 0.1778 - val_mae: 0.1778\n",
      "Epoch 32/200\n",
      "2/2 [==============================] - 0s 89ms/step - loss: 0.1699 - mae: 0.1699 - val_loss: 0.1770 - val_mae: 0.1770\n",
      "Epoch 33/200\n",
      "2/2 [==============================] - 0s 85ms/step - loss: 0.1691 - mae: 0.1691 - val_loss: 0.1763 - val_mae: 0.1763\n",
      "Epoch 34/200\n",
      "2/2 [==============================] - 0s 70ms/step - loss: 0.1684 - mae: 0.1684 - val_loss: 0.1755 - val_mae: 0.1755\n",
      "Epoch 35/200\n",
      "2/2 [==============================] - 0s 80ms/step - loss: 0.1676 - mae: 0.1676 - val_loss: 0.1747 - val_mae: 0.1747\n",
      "Epoch 36/200\n",
      "2/2 [==============================] - 0s 74ms/step - loss: 0.1669 - mae: 0.1669 - val_loss: 0.1740 - val_mae: 0.1740\n",
      "Epoch 37/200\n",
      "2/2 [==============================] - 0s 75ms/step - loss: 0.1662 - mae: 0.1662 - val_loss: 0.1732 - val_mae: 0.1732\n",
      "Epoch 38/200\n",
      "2/2 [==============================] - 0s 69ms/step - loss: 0.1654 - mae: 0.1654 - val_loss: 0.1724 - val_mae: 0.1724\n",
      "Epoch 39/200\n",
      "2/2 [==============================] - 0s 69ms/step - loss: 0.1646 - mae: 0.1646 - val_loss: 0.1716 - val_mae: 0.1716\n",
      "Epoch 40/200\n",
      "2/2 [==============================] - 0s 67ms/step - loss: 0.1639 - mae: 0.1639 - val_loss: 0.1708 - val_mae: 0.1708\n",
      "Epoch 41/200\n",
      "2/2 [==============================] - 0s 80ms/step - loss: 0.1631 - mae: 0.1631 - val_loss: 0.1700 - val_mae: 0.1700\n",
      "Epoch 42/200\n",
      "2/2 [==============================] - 0s 71ms/step - loss: 0.1623 - mae: 0.1623 - val_loss: 0.1692 - val_mae: 0.1692\n",
      "Epoch 43/200\n",
      "2/2 [==============================] - 0s 78ms/step - loss: 0.1615 - mae: 0.1615 - val_loss: 0.1684 - val_mae: 0.1684\n",
      "Epoch 44/200\n",
      "2/2 [==============================] - 0s 65ms/step - loss: 0.1607 - mae: 0.1607 - val_loss: 0.1676 - val_mae: 0.1676\n",
      "Epoch 45/200\n",
      "2/2 [==============================] - 0s 68ms/step - loss: 0.1600 - mae: 0.1600 - val_loss: 0.1668 - val_mae: 0.1668\n",
      "Epoch 46/200\n",
      "2/2 [==============================] - 0s 60ms/step - loss: 0.1592 - mae: 0.1592 - val_loss: 0.1660 - val_mae: 0.1660\n",
      "Epoch 47/200\n",
      "2/2 [==============================] - 0s 67ms/step - loss: 0.1584 - mae: 0.1584 - val_loss: 0.1652 - val_mae: 0.1652\n",
      "Epoch 48/200\n",
      "2/2 [==============================] - 0s 70ms/step - loss: 0.1576 - mae: 0.1576 - val_loss: 0.1644 - val_mae: 0.1644\n",
      "Epoch 49/200\n",
      "2/2 [==============================] - 0s 83ms/step - loss: 0.1568 - mae: 0.1568 - val_loss: 0.1636 - val_mae: 0.1636\n",
      "Epoch 50/200\n",
      "2/2 [==============================] - 0s 66ms/step - loss: 0.1560 - mae: 0.1560 - val_loss: 0.1627 - val_mae: 0.1627\n",
      "Epoch 51/200\n",
      "2/2 [==============================] - 0s 90ms/step - loss: 0.1552 - mae: 0.1552 - val_loss: 0.1619 - val_mae: 0.1619\n",
      "Epoch 52/200\n",
      "2/2 [==============================] - 0s 67ms/step - loss: 0.1544 - mae: 0.1544 - val_loss: 0.1611 - val_mae: 0.1611\n",
      "Epoch 53/200\n",
      "2/2 [==============================] - 0s 72ms/step - loss: 0.1535 - mae: 0.1535 - val_loss: 0.1602 - val_mae: 0.1602\n",
      "Epoch 54/200\n",
      "2/2 [==============================] - 0s 65ms/step - loss: 0.1528 - mae: 0.1528 - val_loss: 0.1594 - val_mae: 0.1594\n",
      "Epoch 55/200\n",
      "2/2 [==============================] - 0s 50ms/step - loss: 0.1519 - mae: 0.1519 - val_loss: 0.1585 - val_mae: 0.1585\n",
      "Epoch 56/200\n",
      "2/2 [==============================] - 0s 53ms/step - loss: 0.1511 - mae: 0.1511 - val_loss: 0.1576 - val_mae: 0.1576\n",
      "Epoch 57/200\n",
      "2/2 [==============================] - 0s 53ms/step - loss: 0.1503 - mae: 0.1503 - val_loss: 0.1568 - val_mae: 0.1568\n",
      "Epoch 58/200\n",
      "2/2 [==============================] - 0s 51ms/step - loss: 0.1494 - mae: 0.1494 - val_loss: 0.1559 - val_mae: 0.1559\n",
      "Epoch 59/200\n",
      "2/2 [==============================] - 0s 50ms/step - loss: 0.1486 - mae: 0.1486 - val_loss: 0.1550 - val_mae: 0.1550\n",
      "Epoch 60/200\n",
      "2/2 [==============================] - 0s 54ms/step - loss: 0.1477 - mae: 0.1477 - val_loss: 0.1542 - val_mae: 0.1542\n",
      "Epoch 61/200\n",
      "2/2 [==============================] - 0s 52ms/step - loss: 0.1469 - mae: 0.1469 - val_loss: 0.1533 - val_mae: 0.1533\n",
      "Epoch 62/200\n",
      "2/2 [==============================] - 0s 51ms/step - loss: 0.1460 - mae: 0.1460 - val_loss: 0.1524 - val_mae: 0.1524\n",
      "Epoch 63/200\n"
     ]
    },
    {
     "name": "stdout",
     "output_type": "stream",
     "text": [
      "2/2 [==============================] - 0s 57ms/step - loss: 0.1451 - mae: 0.1451 - val_loss: 0.1515 - val_mae: 0.1515\n",
      "Epoch 64/200\n",
      "2/2 [==============================] - 0s 87ms/step - loss: 0.1443 - mae: 0.1443 - val_loss: 0.1506 - val_mae: 0.1506\n",
      "Epoch 65/200\n",
      "2/2 [==============================] - 0s 54ms/step - loss: 0.1434 - mae: 0.1434 - val_loss: 0.1497 - val_mae: 0.1497\n",
      "Epoch 66/200\n",
      "2/2 [==============================] - 0s 56ms/step - loss: 0.1425 - mae: 0.1425 - val_loss: 0.1488 - val_mae: 0.1488\n",
      "Epoch 67/200\n",
      "2/2 [==============================] - 0s 55ms/step - loss: 0.1417 - mae: 0.1417 - val_loss: 0.1479 - val_mae: 0.1479\n",
      "Epoch 68/200\n",
      "2/2 [==============================] - 0s 53ms/step - loss: 0.1408 - mae: 0.1408 - val_loss: 0.1469 - val_mae: 0.1469\n",
      "Epoch 69/200\n",
      "2/2 [==============================] - 0s 51ms/step - loss: 0.1399 - mae: 0.1399 - val_loss: 0.1460 - val_mae: 0.1460\n",
      "Epoch 70/200\n",
      "2/2 [==============================] - 0s 62ms/step - loss: 0.1391 - mae: 0.1391 - val_loss: 0.1451 - val_mae: 0.1451\n",
      "Epoch 71/200\n",
      "2/2 [==============================] - 0s 53ms/step - loss: 0.1381 - mae: 0.1381 - val_loss: 0.1442 - val_mae: 0.1442\n",
      "Epoch 72/200\n",
      "2/2 [==============================] - 0s 58ms/step - loss: 0.1373 - mae: 0.1373 - val_loss: 0.1432 - val_mae: 0.1432\n",
      "Epoch 73/200\n",
      "2/2 [==============================] - 0s 68ms/step - loss: 0.1363 - mae: 0.1363 - val_loss: 0.1423 - val_mae: 0.1423\n",
      "Epoch 74/200\n",
      "2/2 [==============================] - 0s 93ms/step - loss: 0.1355 - mae: 0.1355 - val_loss: 0.1413 - val_mae: 0.1413\n",
      "Epoch 75/200\n",
      "2/2 [==============================] - 0s 78ms/step - loss: 0.1346 - mae: 0.1346 - val_loss: 0.1404 - val_mae: 0.1404\n",
      "Epoch 76/200\n",
      "2/2 [==============================] - 0s 64ms/step - loss: 0.1337 - mae: 0.1337 - val_loss: 0.1394 - val_mae: 0.1394\n",
      "Epoch 77/200\n",
      "2/2 [==============================] - 0s 53ms/step - loss: 0.1328 - mae: 0.1328 - val_loss: 0.1385 - val_mae: 0.1385\n",
      "Epoch 78/200\n",
      "2/2 [==============================] - 0s 52ms/step - loss: 0.1319 - mae: 0.1319 - val_loss: 0.1375 - val_mae: 0.1375\n",
      "Epoch 79/200\n",
      "2/2 [==============================] - 0s 54ms/step - loss: 0.1309 - mae: 0.1309 - val_loss: 0.1366 - val_mae: 0.1366\n",
      "Epoch 80/200\n",
      "2/2 [==============================] - 0s 81ms/step - loss: 0.1301 - mae: 0.1301 - val_loss: 0.1357 - val_mae: 0.1357\n",
      "Epoch 81/200\n",
      "2/2 [==============================] - 0s 69ms/step - loss: 0.1291 - mae: 0.1291 - val_loss: 0.1347 - val_mae: 0.1347\n",
      "Epoch 82/200\n",
      "2/2 [==============================] - 0s 62ms/step - loss: 0.1282 - mae: 0.1282 - val_loss: 0.1338 - val_mae: 0.1338\n",
      "Epoch 83/200\n",
      "2/2 [==============================] - 0s 64ms/step - loss: 0.1273 - mae: 0.1273 - val_loss: 0.1329 - val_mae: 0.1329\n",
      "Epoch 84/200\n",
      "2/2 [==============================] - 0s 57ms/step - loss: 0.1264 - mae: 0.1264 - val_loss: 0.1319 - val_mae: 0.1319\n",
      "Epoch 85/200\n",
      "2/2 [==============================] - 0s 55ms/step - loss: 0.1254 - mae: 0.1254 - val_loss: 0.1310 - val_mae: 0.1310\n",
      "Epoch 86/200\n",
      "2/2 [==============================] - 0s 52ms/step - loss: 0.1245 - mae: 0.1245 - val_loss: 0.1300 - val_mae: 0.1300\n",
      "Epoch 87/200\n",
      "2/2 [==============================] - 0s 55ms/step - loss: 0.1236 - mae: 0.1236 - val_loss: 0.1291 - val_mae: 0.1291\n",
      "Epoch 88/200\n",
      "2/2 [==============================] - 0s 55ms/step - loss: 0.1226 - mae: 0.1226 - val_loss: 0.1281 - val_mae: 0.1281\n",
      "Epoch 89/200\n",
      "2/2 [==============================] - 0s 54ms/step - loss: 0.1217 - mae: 0.1217 - val_loss: 0.1271 - val_mae: 0.1271\n",
      "Epoch 90/200\n",
      "2/2 [==============================] - 0s 52ms/step - loss: 0.1208 - mae: 0.1208 - val_loss: 0.1262 - val_mae: 0.1262\n",
      "Epoch 91/200\n",
      "2/2 [==============================] - 0s 60ms/step - loss: 0.1198 - mae: 0.1198 - val_loss: 0.1252 - val_mae: 0.1252\n",
      "Epoch 92/200\n",
      "2/2 [==============================] - 0s 54ms/step - loss: 0.1188 - mae: 0.1188 - val_loss: 0.1242 - val_mae: 0.1242\n",
      "Epoch 93/200\n",
      "2/2 [==============================] - 0s 54ms/step - loss: 0.1179 - mae: 0.1179 - val_loss: 0.1233 - val_mae: 0.1233\n",
      "Epoch 94/200\n",
      "2/2 [==============================] - 0s 52ms/step - loss: 0.1170 - mae: 0.1170 - val_loss: 0.1223 - val_mae: 0.1223\n",
      "Epoch 95/200\n",
      "2/2 [==============================] - 0s 61ms/step - loss: 0.1160 - mae: 0.1160 - val_loss: 0.1214 - val_mae: 0.1214\n",
      "Epoch 96/200\n",
      "2/2 [==============================] - 0s 53ms/step - loss: 0.1151 - mae: 0.1151 - val_loss: 0.1205 - val_mae: 0.1205\n",
      "Epoch 97/200\n",
      "2/2 [==============================] - 0s 56ms/step - loss: 0.1141 - mae: 0.1141 - val_loss: 0.1195 - val_mae: 0.1195\n",
      "Epoch 98/200\n",
      "2/2 [==============================] - 0s 63ms/step - loss: 0.1131 - mae: 0.1131 - val_loss: 0.1186 - val_mae: 0.1186\n",
      "Epoch 99/200\n",
      "2/2 [==============================] - 0s 64ms/step - loss: 0.1121 - mae: 0.1121 - val_loss: 0.1176 - val_mae: 0.1176\n",
      "Epoch 100/200\n",
      "2/2 [==============================] - 0s 62ms/step - loss: 0.1112 - mae: 0.1112 - val_loss: 0.1166 - val_mae: 0.1166\n",
      "Epoch 101/200\n",
      "2/2 [==============================] - 0s 74ms/step - loss: 0.1102 - mae: 0.1102 - val_loss: 0.1156 - val_mae: 0.1156\n",
      "Epoch 102/200\n",
      "2/2 [==============================] - 0s 81ms/step - loss: 0.1092 - mae: 0.1092 - val_loss: 0.1146 - val_mae: 0.1146\n",
      "Epoch 103/200\n",
      "2/2 [==============================] - 0s 92ms/step - loss: 0.1081 - mae: 0.1081 - val_loss: 0.1136 - val_mae: 0.1136\n",
      "Epoch 104/200\n",
      "2/2 [==============================] - 0s 71ms/step - loss: 0.1071 - mae: 0.1071 - val_loss: 0.1126 - val_mae: 0.1126\n",
      "Epoch 105/200\n",
      "2/2 [==============================] - 0s 63ms/step - loss: 0.1061 - mae: 0.1061 - val_loss: 0.1115 - val_mae: 0.1115\n",
      "Epoch 106/200\n",
      "2/2 [==============================] - 0s 62ms/step - loss: 0.1050 - mae: 0.1050 - val_loss: 0.1105 - val_mae: 0.1105\n",
      "Epoch 107/200\n",
      "2/2 [==============================] - 0s 56ms/step - loss: 0.1040 - mae: 0.1040 - val_loss: 0.1095 - val_mae: 0.1095\n",
      "Epoch 108/200\n",
      "2/2 [==============================] - 0s 54ms/step - loss: 0.1030 - mae: 0.1030 - val_loss: 0.1084 - val_mae: 0.1084\n",
      "Epoch 109/200\n",
      "2/2 [==============================] - 0s 59ms/step - loss: 0.1019 - mae: 0.1019 - val_loss: 0.1073 - val_mae: 0.1073\n",
      "Epoch 110/200\n",
      "2/2 [==============================] - 0s 57ms/step - loss: 0.1009 - mae: 0.1009 - val_loss: 0.1063 - val_mae: 0.1063\n",
      "Epoch 111/200\n",
      "2/2 [==============================] - 0s 61ms/step - loss: 0.0998 - mae: 0.0998 - val_loss: 0.1052 - val_mae: 0.1052\n",
      "Epoch 112/200\n",
      "2/2 [==============================] - 0s 66ms/step - loss: 0.0988 - mae: 0.0988 - val_loss: 0.1042 - val_mae: 0.1042\n",
      "Epoch 113/200\n",
      "2/2 [==============================] - 0s 67ms/step - loss: 0.0978 - mae: 0.0978 - val_loss: 0.1031 - val_mae: 0.1031\n",
      "Epoch 114/200\n",
      "2/2 [==============================] - 0s 63ms/step - loss: 0.0967 - mae: 0.0967 - val_loss: 0.1021 - val_mae: 0.1021\n",
      "Epoch 115/200\n",
      "2/2 [==============================] - 0s 58ms/step - loss: 0.0957 - mae: 0.0957 - val_loss: 0.1010 - val_mae: 0.1010\n",
      "Epoch 116/200\n",
      "2/2 [==============================] - 0s 57ms/step - loss: 0.0946 - mae: 0.0946 - val_loss: 0.0999 - val_mae: 0.0999\n",
      "Epoch 117/200\n",
      "2/2 [==============================] - 0s 64ms/step - loss: 0.0935 - mae: 0.0935 - val_loss: 0.0988 - val_mae: 0.0988\n",
      "Epoch 118/200\n",
      "2/2 [==============================] - 0s 59ms/step - loss: 0.0925 - mae: 0.0925 - val_loss: 0.0977 - val_mae: 0.0977\n",
      "Epoch 119/200\n",
      "2/2 [==============================] - 0s 53ms/step - loss: 0.0914 - mae: 0.0914 - val_loss: 0.0966 - val_mae: 0.0966\n",
      "Epoch 120/200\n",
      "2/2 [==============================] - 0s 57ms/step - loss: 0.0903 - mae: 0.0903 - val_loss: 0.0955 - val_mae: 0.0955\n",
      "Epoch 121/200\n",
      "2/2 [==============================] - 0s 66ms/step - loss: 0.0893 - mae: 0.0893 - val_loss: 0.0944 - val_mae: 0.0944\n",
      "Epoch 122/200\n",
      "2/2 [==============================] - 0s 65ms/step - loss: 0.0882 - mae: 0.0882 - val_loss: 0.0933 - val_mae: 0.0933\n",
      "Epoch 123/200\n",
      "2/2 [==============================] - 0s 72ms/step - loss: 0.0871 - mae: 0.0871 - val_loss: 0.0922 - val_mae: 0.0922\n",
      "Epoch 124/200\n",
      "2/2 [==============================] - 0s 67ms/step - loss: 0.0861 - mae: 0.0861 - val_loss: 0.0911 - val_mae: 0.0911\n",
      "Epoch 125/200\n"
     ]
    },
    {
     "name": "stdout",
     "output_type": "stream",
     "text": [
      "2/2 [==============================] - 0s 69ms/step - loss: 0.0850 - mae: 0.0850 - val_loss: 0.0900 - val_mae: 0.0900\n",
      "Epoch 126/200\n",
      "2/2 [==============================] - 0s 58ms/step - loss: 0.0840 - mae: 0.0840 - val_loss: 0.0889 - val_mae: 0.0889\n",
      "Epoch 127/200\n",
      "2/2 [==============================] - 0s 65ms/step - loss: 0.0829 - mae: 0.0829 - val_loss: 0.0878 - val_mae: 0.0878\n",
      "Epoch 128/200\n",
      "2/2 [==============================] - 0s 65ms/step - loss: 0.0818 - mae: 0.0818 - val_loss: 0.0866 - val_mae: 0.0866\n",
      "Epoch 129/200\n",
      "2/2 [==============================] - 0s 57ms/step - loss: 0.0808 - mae: 0.0808 - val_loss: 0.0855 - val_mae: 0.0855\n",
      "Epoch 130/200\n",
      "2/2 [==============================] - 0s 51ms/step - loss: 0.0797 - mae: 0.0797 - val_loss: 0.0844 - val_mae: 0.0844\n",
      "Epoch 131/200\n",
      "2/2 [==============================] - 0s 57ms/step - loss: 0.0786 - mae: 0.0786 - val_loss: 0.0832 - val_mae: 0.0832\n",
      "Epoch 132/200\n",
      "2/2 [==============================] - 0s 57ms/step - loss: 0.0775 - mae: 0.0775 - val_loss: 0.0820 - val_mae: 0.0820\n",
      "Epoch 133/200\n",
      "2/2 [==============================] - 0s 60ms/step - loss: 0.0765 - mae: 0.0765 - val_loss: 0.0809 - val_mae: 0.0809\n",
      "Epoch 134/200\n",
      "2/2 [==============================] - 0s 50ms/step - loss: 0.0753 - mae: 0.0753 - val_loss: 0.0797 - val_mae: 0.0797\n",
      "Epoch 135/200\n",
      "2/2 [==============================] - 0s 58ms/step - loss: 0.0743 - mae: 0.0743 - val_loss: 0.0785 - val_mae: 0.0785\n",
      "Epoch 136/200\n",
      "2/2 [==============================] - 0s 58ms/step - loss: 0.0731 - mae: 0.0731 - val_loss: 0.0773 - val_mae: 0.0773\n",
      "Epoch 137/200\n",
      "2/2 [==============================] - 0s 67ms/step - loss: 0.0720 - mae: 0.0720 - val_loss: 0.0762 - val_mae: 0.0762\n",
      "Epoch 138/200\n",
      "2/2 [==============================] - 0s 71ms/step - loss: 0.0710 - mae: 0.0710 - val_loss: 0.0750 - val_mae: 0.0750\n",
      "Epoch 139/200\n",
      "2/2 [==============================] - 0s 71ms/step - loss: 0.0698 - mae: 0.0698 - val_loss: 0.0738 - val_mae: 0.0738\n",
      "Epoch 140/200\n",
      "2/2 [==============================] - 0s 67ms/step - loss: 0.0688 - mae: 0.0688 - val_loss: 0.0726 - val_mae: 0.0726\n",
      "Epoch 141/200\n",
      "2/2 [==============================] - 0s 55ms/step - loss: 0.0677 - mae: 0.0677 - val_loss: 0.0715 - val_mae: 0.0715\n",
      "Epoch 142/200\n",
      "2/2 [==============================] - 0s 54ms/step - loss: 0.0667 - mae: 0.0667 - val_loss: 0.0703 - val_mae: 0.0703\n",
      "Epoch 143/200\n",
      "2/2 [==============================] - 0s 59ms/step - loss: 0.0656 - mae: 0.0656 - val_loss: 0.0691 - val_mae: 0.0691\n",
      "Epoch 144/200\n",
      "2/2 [==============================] - 0s 54ms/step - loss: 0.0646 - mae: 0.0646 - val_loss: 0.0680 - val_mae: 0.0680\n",
      "Epoch 145/200\n",
      "2/2 [==============================] - 0s 66ms/step - loss: 0.0635 - mae: 0.0635 - val_loss: 0.0668 - val_mae: 0.0668\n",
      "Epoch 146/200\n",
      "2/2 [==============================] - 0s 66ms/step - loss: 0.0625 - mae: 0.0625 - val_loss: 0.0656 - val_mae: 0.0656\n",
      "Epoch 147/200\n",
      "2/2 [==============================] - 0s 58ms/step - loss: 0.0614 - mae: 0.0614 - val_loss: 0.0644 - val_mae: 0.0644\n",
      "Epoch 148/200\n",
      "2/2 [==============================] - 0s 58ms/step - loss: 0.0604 - mae: 0.0604 - val_loss: 0.0633 - val_mae: 0.0633\n",
      "Epoch 149/200\n",
      "2/2 [==============================] - 0s 54ms/step - loss: 0.0594 - mae: 0.0594 - val_loss: 0.0621 - val_mae: 0.0621\n",
      "Epoch 150/200\n",
      "2/2 [==============================] - 0s 61ms/step - loss: 0.0583 - mae: 0.0583 - val_loss: 0.0609 - val_mae: 0.0609\n",
      "Epoch 151/200\n",
      "2/2 [==============================] - 0s 61ms/step - loss: 0.0573 - mae: 0.0573 - val_loss: 0.0597 - val_mae: 0.0597\n",
      "Epoch 152/200\n",
      "2/2 [==============================] - 0s 70ms/step - loss: 0.0563 - mae: 0.0563 - val_loss: 0.0586 - val_mae: 0.0586\n",
      "Epoch 153/200\n",
      "2/2 [==============================] - 0s 66ms/step - loss: 0.0552 - mae: 0.0552 - val_loss: 0.0574 - val_mae: 0.0574\n",
      "Epoch 154/200\n",
      "2/2 [==============================] - 0s 58ms/step - loss: 0.0542 - mae: 0.0542 - val_loss: 0.0562 - val_mae: 0.0562\n",
      "Epoch 155/200\n",
      "2/2 [==============================] - 0s 59ms/step - loss: 0.0532 - mae: 0.0532 - val_loss: 0.0550 - val_mae: 0.0550\n",
      "Epoch 156/200\n",
      "2/2 [==============================] - 0s 58ms/step - loss: 0.0522 - mae: 0.0522 - val_loss: 0.0538 - val_mae: 0.0538\n",
      "Epoch 157/200\n",
      "2/2 [==============================] - 0s 59ms/step - loss: 0.0511 - mae: 0.0511 - val_loss: 0.0526 - val_mae: 0.0526\n",
      "Epoch 158/200\n",
      "2/2 [==============================] - 0s 66ms/step - loss: 0.0502 - mae: 0.0502 - val_loss: 0.0515 - val_mae: 0.0515\n",
      "Epoch 159/200\n",
      "2/2 [==============================] - 0s 58ms/step - loss: 0.0492 - mae: 0.0492 - val_loss: 0.0504 - val_mae: 0.0504\n",
      "Epoch 160/200\n",
      "2/2 [==============================] - 0s 56ms/step - loss: 0.0482 - mae: 0.0482 - val_loss: 0.0493 - val_mae: 0.0493\n",
      "Epoch 161/200\n",
      "2/2 [==============================] - 0s 57ms/step - loss: 0.0471 - mae: 0.0471 - val_loss: 0.0482 - val_mae: 0.0482\n",
      "Epoch 162/200\n",
      "2/2 [==============================] - 0s 55ms/step - loss: 0.0462 - mae: 0.0462 - val_loss: 0.0471 - val_mae: 0.0471\n",
      "Epoch 163/200\n",
      "2/2 [==============================] - 0s 58ms/step - loss: 0.0452 - mae: 0.0452 - val_loss: 0.0460 - val_mae: 0.0460\n",
      "Epoch 164/200\n",
      "2/2 [==============================] - 0s 58ms/step - loss: 0.0441 - mae: 0.0441 - val_loss: 0.0449 - val_mae: 0.0449\n",
      "Epoch 165/200\n",
      "2/2 [==============================] - 0s 58ms/step - loss: 0.0432 - mae: 0.0432 - val_loss: 0.0438 - val_mae: 0.0438\n",
      "Epoch 166/200\n",
      "2/2 [==============================] - 0s 65ms/step - loss: 0.0422 - mae: 0.0422 - val_loss: 0.0426 - val_mae: 0.0426\n",
      "Epoch 167/200\n",
      "2/2 [==============================] - 0s 60ms/step - loss: 0.0413 - mae: 0.0413 - val_loss: 0.0415 - val_mae: 0.0415\n",
      "Epoch 168/200\n",
      "2/2 [==============================] - 0s 68ms/step - loss: 0.0402 - mae: 0.0402 - val_loss: 0.0405 - val_mae: 0.0405\n",
      "Epoch 169/200\n",
      "2/2 [==============================] - 0s 66ms/step - loss: 0.0393 - mae: 0.0393 - val_loss: 0.0395 - val_mae: 0.0395\n",
      "Epoch 170/200\n",
      "2/2 [==============================] - 0s 58ms/step - loss: 0.0383 - mae: 0.0383 - val_loss: 0.0385 - val_mae: 0.0385\n",
      "Epoch 171/200\n",
      "2/2 [==============================] - 0s 57ms/step - loss: 0.0374 - mae: 0.0374 - val_loss: 0.0374 - val_mae: 0.0374\n",
      "Epoch 172/200\n",
      "2/2 [==============================] - 0s 58ms/step - loss: 0.0365 - mae: 0.0365 - val_loss: 0.0364 - val_mae: 0.0364\n",
      "Epoch 173/200\n",
      "2/2 [==============================] - 0s 57ms/step - loss: 0.0355 - mae: 0.0355 - val_loss: 0.0354 - val_mae: 0.0354\n",
      "Epoch 174/200\n",
      "2/2 [==============================] - 0s 91ms/step - loss: 0.0347 - mae: 0.0347 - val_loss: 0.0344 - val_mae: 0.0344\n",
      "Epoch 175/200\n",
      "2/2 [==============================] - 0s 73ms/step - loss: 0.0337 - mae: 0.0337 - val_loss: 0.0334 - val_mae: 0.0334\n",
      "Epoch 176/200\n",
      "2/2 [==============================] - 0s 66ms/step - loss: 0.0328 - mae: 0.0328 - val_loss: 0.0324 - val_mae: 0.0324\n",
      "Epoch 177/200\n",
      "2/2 [==============================] - 0s 84ms/step - loss: 0.0320 - mae: 0.0320 - val_loss: 0.0314 - val_mae: 0.0314\n",
      "Epoch 178/200\n",
      "2/2 [==============================] - 0s 75ms/step - loss: 0.0312 - mae: 0.0312 - val_loss: 0.0304 - val_mae: 0.0304\n",
      "Epoch 179/200\n",
      "2/2 [==============================] - 0s 66ms/step - loss: 0.0304 - mae: 0.0304 - val_loss: 0.0295 - val_mae: 0.0295\n",
      "Epoch 180/200\n",
      "2/2 [==============================] - 0s 53ms/step - loss: 0.0296 - mae: 0.0296 - val_loss: 0.0285 - val_mae: 0.0285\n",
      "Epoch 181/200\n",
      "2/2 [==============================] - 0s 65ms/step - loss: 0.0288 - mae: 0.0288 - val_loss: 0.0276 - val_mae: 0.0276\n",
      "Epoch 182/200\n",
      "2/2 [==============================] - 0s 68ms/step - loss: 0.0281 - mae: 0.0281 - val_loss: 0.0267 - val_mae: 0.0267\n",
      "Epoch 183/200\n",
      "2/2 [==============================] - 0s 53ms/step - loss: 0.0274 - mae: 0.0274 - val_loss: 0.0258 - val_mae: 0.0258\n",
      "Epoch 184/200\n",
      "2/2 [==============================] - 0s 65ms/step - loss: 0.0267 - mae: 0.0267 - val_loss: 0.0249 - val_mae: 0.0249\n",
      "Epoch 185/200\n",
      "2/2 [==============================] - 0s 69ms/step - loss: 0.0261 - mae: 0.0261 - val_loss: 0.0240 - val_mae: 0.0240\n",
      "Epoch 186/200\n",
      "2/2 [==============================] - 0s 53ms/step - loss: 0.0254 - mae: 0.0254 - val_loss: 0.0231 - val_mae: 0.0231\n",
      "Epoch 187/200\n"
     ]
    },
    {
     "name": "stdout",
     "output_type": "stream",
     "text": [
      "2/2 [==============================] - 0s 70ms/step - loss: 0.0249 - mae: 0.0249 - val_loss: 0.0222 - val_mae: 0.0222\n",
      "Epoch 188/200\n",
      "2/2 [==============================] - 0s 67ms/step - loss: 0.0242 - mae: 0.0242 - val_loss: 0.0214 - val_mae: 0.0214\n",
      "Epoch 189/200\n",
      "2/2 [==============================] - 0s 67ms/step - loss: 0.0236 - mae: 0.0236 - val_loss: 0.0206 - val_mae: 0.0206\n",
      "Epoch 190/200\n",
      "2/2 [==============================] - 0s 65ms/step - loss: 0.0231 - mae: 0.0231 - val_loss: 0.0198 - val_mae: 0.0198\n",
      "Epoch 191/200\n",
      "2/2 [==============================] - 0s 61ms/step - loss: 0.0226 - mae: 0.0226 - val_loss: 0.0190 - val_mae: 0.0190\n",
      "Epoch 192/200\n",
      "2/2 [==============================] - 0s 66ms/step - loss: 0.0222 - mae: 0.0222 - val_loss: 0.0184 - val_mae: 0.0184\n",
      "Epoch 193/200\n",
      "2/2 [==============================] - 0s 62ms/step - loss: 0.0217 - mae: 0.0217 - val_loss: 0.0179 - val_mae: 0.0179\n",
      "Epoch 194/200\n",
      "2/2 [==============================] - 0s 66ms/step - loss: 0.0212 - mae: 0.0212 - val_loss: 0.0175 - val_mae: 0.0175\n",
      "Epoch 195/200\n",
      "2/2 [==============================] - 0s 57ms/step - loss: 0.0207 - mae: 0.0207 - val_loss: 0.0171 - val_mae: 0.0171\n",
      "Epoch 196/200\n",
      "2/2 [==============================] - 0s 66ms/step - loss: 0.0204 - mae: 0.0204 - val_loss: 0.0167 - val_mae: 0.0167\n",
      "Epoch 197/200\n",
      "2/2 [==============================] - 0s 67ms/step - loss: 0.0200 - mae: 0.0200 - val_loss: 0.0163 - val_mae: 0.0163\n",
      "Epoch 198/200\n",
      "2/2 [==============================] - 0s 66ms/step - loss: 0.0197 - mae: 0.0197 - val_loss: 0.0160 - val_mae: 0.0160\n",
      "Epoch 199/200\n",
      "2/2 [==============================] - 0s 68ms/step - loss: 0.0193 - mae: 0.0193 - val_loss: 0.0157 - val_mae: 0.0157\n",
      "Epoch 200/200\n",
      "2/2 [==============================] - 0s 67ms/step - loss: 0.0190 - mae: 0.0190 - val_loss: 0.0155 - val_mae: 0.0155\n"
     ]
    }
   ],
   "source": [
    "history = model.fit(X_train, Y_train, epochs=200, validation_split=0.2)"
   ]
  },
  {
   "cell_type": "code",
   "execution_count": 89,
   "metadata": {},
   "outputs": [
    {
     "data": {
      "image/png": "[encoded data removed]",
      "text/plain": [
       "<Figure size 432x288 with 1 Axes>"
      ]
     },
     "metadata": {
      "needs_background": "light"
     },
     "output_type": "display_data"
    }
   ],
   "source": [
    "import matplotlib.pyplot as plt\n",
    "history_df = pd.DataFrame(history.history)\n",
    "plt.plot(history_df['loss'], label='loss')\n",
    "plt.plot(history_df['val_loss'], label='val_loss')\n",
    "\n",
    "plt.legend()\n",
    "\n",
    "nny_pred = model.predict(X_test)"
   ]
  },
  {
   "cell_type": "code",
   "execution_count": 90,
   "metadata": {},
   "outputs": [
    {
     "data": {
      "text/plain": [
       "[<matplotlib.lines.Line2D at 0x1f8147c9400>]"
      ]
     },
     "execution_count": 90,
     "metadata": {},
     "output_type": "execute_result"
    },
    {
     "data": {
      "image/png": "[encoded data removed]",
      "text/plain": [
       "<Figure size 432x288 with 1 Axes>"
      ]
     },
     "metadata": {
      "needs_background": "light"
     },
     "output_type": "display_data"
    }
   ],
   "source": [
    "a = plt.axes(aspect='equal')\n",
    "plt.scatter(Y_test, nny_pred)\n",
    "plt.xlabel('True values')\n",
    "plt.ylabel('Predicted values')\n",
    "plt.title('A plot that shows the true and predicted values')\n",
    "plt.xlim([0, .8])\n",
    "plt.ylim([0, .8])\n",
    "plt.plot([0, .8], [0, .8])"
   ]
  },
  {
   "cell_type": "code",
   "execution_count": 91,
   "metadata": {},
   "outputs": [
    {
     "name": "stdout",
     "output_type": "stream",
     "text": [
      "0.979258148848818\n"
     ]
    }
   ],
   "source": [
    "import numpy as np\n",
    "from sklearn.metrics import mean_squared_error, r2_score\n",
    "test=Y_test.to_numpy()\n",
    "\n",
    "print(r2_score(nny_pred,Y_test))"
   ]
  },
  {
   "cell_type": "code",
   "execution_count": 92,
   "metadata": {},
   "outputs": [
    {
     "data": {
      "text/plain": [
       "18.12603124976158"
      ]
     },
     "execution_count": 92,
     "metadata": {},
     "output_type": "execute_result"
    }
   ],
   "source": [
    "MAPE(Y_test, nny_pred)"
   ]
  },
  {
   "cell_type": "code",
   "execution_count": null,
   "metadata": {},
   "outputs": [],
   "source": []
  },
  {
   "cell_type": "code",
   "execution_count": null,
   "metadata": {},
   "outputs": [],
   "source": []
  },
  {
   "cell_type": "code",
   "execution_count": null,
   "metadata": {},
   "outputs": [],
   "source": []
  },
  {
   "cell_type": "code",
   "execution_count": 93,
   "metadata": {},
   "outputs": [
    {
     "name": "stdout",
     "output_type": "stream",
     "text": [
      "Mean abs percentage error (MAPE): 0.50\n",
      "Coefficient of determination (R^2): 1.00\n"
     ]
    }
   ],
   "source": [
    "import numpy as np\n",
    "from sklearn.metrics import mean_squared_error, r2_score\n",
    "from xgboost.sklearn import XGBRegressor\n",
    "model=XGBRegressor()\n",
    "model.fit(X_train, Y_train)\n",
    "xgbY_pred_test = model.predict(X_test)\n",
    "#print('Coefficients:', model.coef_)\n",
    "#print('Intercept:', model.intercept_)\n",
    "print('Mean abs percentage error (MAPE): %.2f'\n",
    " % MAPE(Y_test, xgbY_pred_test))\n",
    "print('Coefficient of determination (R^2): %.2f'\n",
    " % r2_score(Y_test, xgbY_pred_test))"
   ]
  },
  {
   "cell_type": "code",
   "execution_count": 94,
   "metadata": {},
   "outputs": [
    {
     "data": {
      "text/plain": [
       "[<matplotlib.lines.Line2D at 0x1f8148b18b0>]"
      ]
     },
     "execution_count": 94,
     "metadata": {},
     "output_type": "execute_result"
    },
    {
     "data": {
      "image/png": "[encoded data removed]",
      "text/plain": [
       "<Figure size 432x288 with 1 Axes>"
      ]
     },
     "metadata": {
      "needs_background": "light"
     },
     "output_type": "display_data"
    }
   ],
   "source": [
    "a = plt.axes(aspect='equal')\n",
    "plt.scatter(Y_test, xgbY_pred_test)\n",
    "plt.xlabel('True values')\n",
    "plt.ylabel('Predicted values')\n",
    "plt.title('A plot that shows the true and predicted values')\n",
    "plt.xlim([0, .8])\n",
    "plt.ylim([0, .8])\n",
    "plt.plot([0, .8], [0, .8])"
   ]
  },
  {
   "cell_type": "code",
   "execution_count": 95,
   "metadata": {},
   "outputs": [
    {
     "name": "stdout",
     "output_type": "stream",
     "text": [
      "Coefficients: [3.59729661e-16 1.61472630e-02]\n",
      "Intercept: 1.1102230246251565e-16\n",
      "Mean abs percentage error (MAPE): 0.00\n",
      "Coefficient of determination (R^2): 1.00\n"
     ]
    }
   ],
   "source": [
    "from sklearn import linear_model\n",
    "from sklearn.metrics import mean_squared_error, r2_score\n",
    "model = linear_model.LinearRegression()\n",
    "model.fit(X_train, Y_train)\n",
    "linY_pred_test = model.predict(X_test)\n",
    "print('Coefficients:', model.coef_)\n",
    "print('Intercept:', model.intercept_)\n",
    "print('Mean abs percentage error (MAPE): %.2f'\n",
    " % MAPE(Y_test, linY_pred_test))\n",
    "print('Coefficient of determination (R^2): %.2f'\n",
    " % r2_score(Y_test, linY_pred_test))"
   ]
  },
  {
   "cell_type": "code",
   "execution_count": 96,
   "metadata": {},
   "outputs": [
    {
     "data": {
      "text/plain": [
       "[<matplotlib.lines.Line2D at 0x1f8149233a0>]"
      ]
     },
     "execution_count": 96,
     "metadata": {},
     "output_type": "execute_result"
    },
    {
     "data": {
      "image/png": "[encoded data removed]",
      "text/plain": [
       "<Figure size 432x288 with 1 Axes>"
      ]
     },
     "metadata": {
      "needs_background": "light"
     },
     "output_type": "display_data"
    }
   ],
   "source": [
    "a = plt.axes(aspect='equal')\n",
    "plt.scatter(Y_test, linY_pred_test)\n",
    "plt.xlabel('True values')\n",
    "plt.ylabel('Predicted values')\n",
    "plt.title('A plot that shows the true and predicted values')\n",
    "plt.xlim([0, .8])\n",
    "plt.ylim([0, .8])\n",
    "plt.plot([0, .8], [0, .8])"
   ]
  },
  {
   "cell_type": "code",
   "execution_count": null,
   "metadata": {},
   "outputs": [],
   "source": []
  },
  {
   "cell_type": "code",
   "execution_count": null,
   "metadata": {},
   "outputs": [],
   "source": []
  },
  {
   "cell_type": "code",
   "execution_count": null,
   "metadata": {},
   "outputs": [],
   "source": []
  },
  {
   "cell_type": "code",
   "execution_count": null,
   "metadata": {},
   "outputs": [],
   "source": []
  },
  {
   "cell_type": "code",
   "execution_count": null,
   "metadata": {},
   "outputs": [],
   "source": []
  }
 ],
 "metadata": {
  "kernelspec": {
   "display_name": "Python 3",
   "language": "python",
   "name": "python3"
  },
  "language_info": {
   "codemirror_mode": {
    "name": "ipython",
    "version": 3
   },
   "file_extension": ".py",
   "mimetype": "text/x-python",
   "name": "python",
   "nbconvert_exporter": "python",
   "pygments_lexer": "ipython3",
   "version": "3.8.3"
  }
 },
 "nbformat": 4,
 "nbformat_minor": 4
}
